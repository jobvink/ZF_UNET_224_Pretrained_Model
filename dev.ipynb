{
 "cells": [
  {
   "cell_type": "code",
   "execution_count": 1,
   "metadata": {
    "collapsed": true
   },
   "outputs": [
    {
     "ename": "ModuleNotFoundError",
     "evalue": "No module named 'tensorflow'",
     "output_type": "error",
     "traceback": [
      "\u001B[0;31m---------------------------------------------------------------------------\u001B[0m",
      "\u001B[0;31mModuleNotFoundError\u001B[0m                       Traceback (most recent call last)",
      "\u001B[0;32m<ipython-input-1-75f99a1d415f>\u001B[0m in \u001B[0;36m<module>\u001B[0;34m\u001B[0m\n\u001B[1;32m      3\u001B[0m \u001B[0;32mimport\u001B[0m \u001B[0mcv2\u001B[0m\u001B[0;34m\u001B[0m\u001B[0;34m\u001B[0m\u001B[0m\n\u001B[1;32m      4\u001B[0m \u001B[0;32mimport\u001B[0m \u001B[0mmatplotlib\u001B[0m\u001B[0;34m.\u001B[0m\u001B[0mpyplot\u001B[0m \u001B[0;32mas\u001B[0m \u001B[0mplt\u001B[0m\u001B[0;34m\u001B[0m\u001B[0;34m\u001B[0m\u001B[0m\n\u001B[0;32m----> 5\u001B[0;31m \u001B[0;32mfrom\u001B[0m \u001B[0mzf_unet_224_model\u001B[0m \u001B[0;32mimport\u001B[0m \u001B[0;34m*\u001B[0m\u001B[0;34m\u001B[0m\u001B[0;34m\u001B[0m\u001B[0m\n\u001B[0m\u001B[1;32m      6\u001B[0m \u001B[0;34m\u001B[0m\u001B[0m\n",
      "\u001B[0;32m~/PycharmProjects/ZF_UNET_224_Pretrained_Model/zf_unet_224_model.py\u001B[0m in \u001B[0;36m<module>\u001B[0;34m\u001B[0m\n\u001B[1;32m     12\u001B[0m \u001B[0m__author__\u001B[0m \u001B[0;34m=\u001B[0m \u001B[0;34m'ZFTurbo: https://kaggle.com/zfturbo'\u001B[0m\u001B[0;34m\u001B[0m\u001B[0;34m\u001B[0m\u001B[0m\n\u001B[1;32m     13\u001B[0m \u001B[0;34m\u001B[0m\u001B[0m\n\u001B[0;32m---> 14\u001B[0;31m \u001B[0;32mfrom\u001B[0m \u001B[0mtensorflow\u001B[0m\u001B[0;34m.\u001B[0m\u001B[0mkeras\u001B[0m \u001B[0;32mimport\u001B[0m \u001B[0mbackend\u001B[0m \u001B[0;32mas\u001B[0m \u001B[0mK\u001B[0m\u001B[0;34m\u001B[0m\u001B[0;34m\u001B[0m\u001B[0m\n\u001B[0m\u001B[1;32m     15\u001B[0m \u001B[0;32mfrom\u001B[0m \u001B[0mtensorflow\u001B[0m\u001B[0;34m.\u001B[0m\u001B[0mkeras\u001B[0m\u001B[0;34m.\u001B[0m\u001B[0mmodels\u001B[0m \u001B[0;32mimport\u001B[0m \u001B[0mModel\u001B[0m\u001B[0;34m\u001B[0m\u001B[0;34m\u001B[0m\u001B[0m\n\u001B[1;32m     16\u001B[0m \u001B[0;32mfrom\u001B[0m \u001B[0mtensorflow\u001B[0m\u001B[0;34m.\u001B[0m\u001B[0mkeras\u001B[0m\u001B[0;34m.\u001B[0m\u001B[0mlayers\u001B[0m \u001B[0;32mimport\u001B[0m \u001B[0mInput\u001B[0m\u001B[0;34m,\u001B[0m \u001B[0mConv2D\u001B[0m\u001B[0;34m,\u001B[0m \u001B[0mMaxPooling2D\u001B[0m\u001B[0;34m,\u001B[0m \u001B[0mUpSampling2D\u001B[0m\u001B[0;34m,\u001B[0m \u001B[0mBatchNormalization\u001B[0m\u001B[0;34m\u001B[0m\u001B[0;34m\u001B[0m\u001B[0m\n",
      "\u001B[0;31mModuleNotFoundError\u001B[0m: No module named 'tensorflow'"
     ]
    }
   ],
   "source": [
    "import random\n",
    "import numpy as np\n",
    "import cv2\n",
    "import matplotlib.pyplot as plt\n",
    "from zf_unet_224_model import *"
   ]
  },
  {
   "cell_type": "code",
   "execution_count": null,
   "outputs": [],
   "source": [
    "mask = np.zeros((1600, 256), dtype=np.uint8)\n",
    "print(type(mask))\n",
    "cv2.ellipse(mask, (10, 10), (10, 10), 0, 0, 360, 255, -1)\n",
    "\n",
    "mask = np.zeros((1600, 256, 3), dtype=np.uint8)\n",
    "print(type(mask[:, :, 2]))\n",
    "cv2.ellipse(mask[:, :, 2].copy(), (10, 10), (10, 10), 0, 0, 360, 255, -1)"
   ],
   "metadata": {
    "collapsed": false,
    "pycharm": {
     "name": "#%%\n"
    }
   }
  },
  {
   "cell_type": "code",
   "execution_count": null,
   "outputs": [],
   "source": [
    "def gen_random_image(input_shape, output_shape):\n",
    "    img = np.zeros(input_shape, dtype=np.uint8)\n",
    "    mask = np.zeros((input_shape[0], input_shape[1], *output_shape), dtype=np.uint8)\n",
    "\n",
    "    # Background\n",
    "    dark_color0 = random.randint(0, 100)\n",
    "    dark_color1 = random.randint(0, 100)\n",
    "    dark_color2 = random.randint(0, 100)\n",
    "    img[:, :, 0] = dark_color0\n",
    "    img[:, :, 1] = dark_color1\n",
    "    img[:, :, 2] = dark_color2\n",
    "\n",
    "    # Object\n",
    "    light_color0 = random.randint(dark_color0 + 1, 255)\n",
    "    light_color1 = random.randint(dark_color1 + 1, 255)\n",
    "    light_color2 = random.randint(dark_color2 + 1, 255)\n",
    "    center_0 = random.randint(0, 224)\n",
    "    center_1 = random.randint(0, 224)\n",
    "    r1 = random.randint(10, 56)\n",
    "    r2 = random.randint(10, 56)\n",
    "    cv2.ellipse(img, (center_0, center_1), (r1, r2), 0, 0, 360, (light_color0, light_color1, light_color2), -1)\n",
    "    cv2.ellipse(mask[:, :, random.randint(0, output_shape[0]-1)].copy(), (center_0, center_1), (r1, r2), 0, 0, 360, 255, -1)\n",
    "\n",
    "    # White noise\n",
    "    density = random.uniform(0, 0.1)\n",
    "    for i in range(224):\n",
    "        for j in range(224):\n",
    "            if random.random() < density:\n",
    "                img[i, j, 0] = random.randint(0, 255)\n",
    "                img[i, j, 1] = random.randint(0, 255)\n",
    "                img[i, j, 2] = random.randint(0, 255)\n",
    "\n",
    "    return img, mask"
   ],
   "metadata": {
    "collapsed": false,
    "pycharm": {
     "name": "#%%\n"
    }
   }
  },
  {
   "cell_type": "code",
   "execution_count": null,
   "outputs": [],
   "source": [
    "img, mask = gen_random_image((256, 1600 , 3), (4,))\n",
    "print(img.shape)\n",
    "print(mask.shape)"
   ],
   "metadata": {
    "collapsed": false,
    "pycharm": {
     "name": "#%%\n"
    }
   }
  },
  {
   "cell_type": "code",
   "execution_count": null,
   "outputs": [],
   "source": [
    "fig, ax = plt.subplots(5, 1)\n",
    "ax[0].imshow(img)\n",
    "for i in range(0, 4):\n",
    "    ax[i+1].imshow(mask[:, :, i])\n",
    "plt.show()"
   ],
   "metadata": {
    "collapsed": false,
    "pycharm": {
     "name": "#%%\n"
    }
   }
  },
  {
   "cell_type": "code",
   "execution_count": null,
   "outputs": [],
   "source": [
    "bce_dice_loss(mask, mask)"
   ],
   "metadata": {
    "collapsed": false,
    "pycharm": {
     "name": "#%%\n"
    }
   }
  },
  {
   "cell_type": "code",
   "execution_count": null,
   "outputs": [],
   "source": [],
   "metadata": {
    "collapsed": false,
    "pycharm": {
     "name": "#%%\n"
    }
   }
  }
 ],
 "metadata": {
  "kernelspec": {
   "display_name": "Python 3",
   "language": "python",
   "name": "python3"
  },
  "language_info": {
   "codemirror_mode": {
    "name": "ipython",
    "version": 2
   },
   "file_extension": ".py",
   "mimetype": "text/x-python",
   "name": "python",
   "nbconvert_exporter": "python",
   "pygments_lexer": "ipython2",
   "version": "2.7.6"
  }
 },
 "nbformat": 4,
 "nbformat_minor": 0
}