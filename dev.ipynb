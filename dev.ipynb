{
 "cells": [
  {
   "cell_type": "code",
   "execution_count": 7,
   "metadata": {
    "collapsed": true
   },
   "outputs": [],
   "source": [
    "import random\n",
    "import numpy as np\n",
    "import cv2\n",
    "import matplotlib.pyplot as plt"
   ]
  },
  {
   "cell_type": "code",
   "execution_count": 8,
   "outputs": [
    {
     "name": "stdout",
     "output_type": "stream",
     "text": [
      "<class 'numpy.ndarray'>\n",
      "<class 'numpy.ndarray'>\n"
     ]
    },
    {
     "data": {
      "text/plain": "array([[0, 0, 0, ..., 0, 0, 0],\n       [0, 0, 0, ..., 0, 0, 0],\n       [0, 0, 0, ..., 0, 0, 0],\n       ...,\n       [0, 0, 0, ..., 0, 0, 0],\n       [0, 0, 0, ..., 0, 0, 0],\n       [0, 0, 0, ..., 0, 0, 0]], dtype=uint8)"
     },
     "execution_count": 8,
     "metadata": {},
     "output_type": "execute_result"
    }
   ],
   "source": [
    "mask = np.zeros((1600, 256), dtype=np.uint8)\n",
    "print(type(mask))\n",
    "cv2.ellipse(mask, (10, 10), (10, 10), 0, 0, 360, 255, -1)\n",
    "\n",
    "mask = np.zeros((1600, 256, 3), dtype=np.uint8)\n",
    "print(type(mask[:, :, 2]))\n",
    "cv2.ellipse(mask[:, :, 2].copy(), (10, 10), (10, 10), 0, 0, 360, 255, -1)"
   ],
   "metadata": {
    "collapsed": false,
    "pycharm": {
     "name": "#%%\n"
    }
   }
  },
  {
   "cell_type": "code",
   "execution_count": 111,
   "outputs": [],
   "source": [
    "def gen_random_image(input_shape, output_shape):\n",
    "        img = np.zeros(input_shape, dtype=np.uint8)\n",
    "        mask = np.zeros((input_shape[0], input_shape[1], *output_shape), dtype=np.uint8)\n",
    "\n",
    "        # Background\n",
    "        dark_color = np.zeros(shape=(input_shape[2],))\n",
    "        for i in range(input_shape[2]):\n",
    "            dark_color[i] = random.randint(0, 100)\n",
    "            img[:, :, i] = dark_color[i]\n",
    "\n",
    "        # Object\n",
    "        light_color = np.zeros(shape=(input_shape[2],))\n",
    "        for i in range(input_shape[2]):\n",
    "            light_color[i] = random.randint(dark_color[i] + 1, 255)\n",
    "\n",
    "        for c in range(10):\n",
    "            center_0 = random.randint(0, input_shape[0] - 1)\n",
    "            center_1 = random.randint(0, input_shape[1] - 1)\n",
    "            r1 = random.randint(10, 56)\n",
    "            r2 = random.randint(10, 56)\n",
    "            img = cv2.ellipse(img.copy(), (center_1, center_0), (r2, r1), 0, 0, 360, light_color, -1)\n",
    "            ax = random.randint(0, output_shape[0] - 1)\n",
    "            mask[:, :, ax] = cv2.ellipse(mask[:, :, ax].copy(), (center_1, center_0), (r2, r1), 0, 0, 360, 255, -1)\n",
    "\n",
    "        noise = np.zeros(input_shape, dtype=np.uint8)\n",
    "        cv2.randn(noise, 50, 25)\n",
    "        img += noise\n",
    "        img = np.clip(img, 0, 255)\n",
    "\n",
    "        return img, mask"
   ],
   "metadata": {
    "collapsed": false,
    "pycharm": {
     "name": "#%%\n"
    }
   }
  },
  {
   "cell_type": "code",
   "execution_count": 112,
   "outputs": [
    {
     "name": "stdout",
     "output_type": "stream",
     "text": [
      "(256, 1600, 1)\n",
      "(256, 1600, 4)\n",
      "0\n",
      "255\n"
     ]
    }
   ],
   "source": [
    "img, mask = gen_random_image((256, 1600 , 1), (4,))\n",
    "print(img.shape)\n",
    "print(mask.shape)\n",
    "print(img.min())\n",
    "print(img.max())"
   ],
   "metadata": {
    "collapsed": false,
    "pycharm": {
     "name": "#%%\n"
    }
   }
  },
  {
   "cell_type": "code",
   "execution_count": 113,
   "outputs": [
    {
     "data": {
      "text/plain": "<Figure size 432x288 with 5 Axes>",
      "image/png": "[encoded data removed]"
     },
     "metadata": {
      "needs_background": "light"
     },
     "output_type": "display_data"
    }
   ],
   "source": [
    "fig, ax = plt.subplots(5, 1)\n",
    "ax[0].imshow(img, cmap='gray')\n",
    "for i in range(0, 4):\n",
    "    ax[i+1].imshow(mask[:, :, i], cmap='gray')\n",
    "plt.show()"
   ],
   "metadata": {
    "collapsed": false,
    "pycharm": {
     "name": "#%%\n"
    }
   }
  },
  {
   "cell_type": "code",
   "execution_count": null,
   "outputs": [],
   "source": [],
   "metadata": {
    "collapsed": false,
    "pycharm": {
     "name": "#%%\n"
    }
   }
  }
 ],
 "metadata": {
  "kernelspec": {
   "display_name": "Python 3",
   "language": "python",
   "name": "python3"
  },
  "language_info": {
   "codemirror_mode": {
    "name": "ipython",
    "version": 2
   },
   "file_extension": ".py",
   "mimetype": "text/x-python",
   "name": "python",
   "nbconvert_exporter": "python",
   "pygments_lexer": "ipython2",
   "version": "2.7.6"
  }
 },
 "nbformat": 4,
 "nbformat_minor": 0
}